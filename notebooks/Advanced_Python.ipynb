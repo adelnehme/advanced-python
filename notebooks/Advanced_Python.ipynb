{
  "nbformat": 4,
  "nbformat_minor": 0,
  "metadata": {
    "colab": {
      "name": "Advanced Python Learning Session.ipynb",
      "provenance": []
    },
    "kernelspec": {
      "name": "python3",
      "display_name": "Python 3"
    }
  },
  "cells": [
    {
      "cell_type": "markdown",
      "metadata": {
        "id": "6Ijg5wUCTQYG"
      },
      "source": [
        "<p align=\"center\">\n",
        "<img src=\"https://github.com/adelnehme/advanced-python/blob/master/assets/hsbc_datacamp.png?raw=True\" alt = \"DataCamp icon\" width=\"50%\">\n",
        "</p>\n",
        "<br>\n",
        "\n",
        "## **Advanced Python Learning Session**\n",
        "\n",
        "\n",
        "#### **Learning Objectives**\n",
        "\n",
        "- Understand the value of automating Python code using functions and best practices when authoring functions\n",
        "- Create a set of Python functions that automate a data cleaning workflow\n",
        "- Learn the use-cases of package authoring, object-oriented programming and how it enables data democratization\n",
        "- Understand the value of git, version control, and how it enables collaboration on data projects\n",
        "\n",
        "#### **The Dataset**\n",
        "\n",
        "The dataset to be used in this webinar is a CSV file named `airbnb.csv`, which contains data on airbnb listings in the state of New York. It contains the following columns:\n",
        "\n",
        "- `listing_id`: The unique identifier for a listing\n",
        "- `description`: The description used on the listing\n",
        "- `host_id`: Unique identifier for a host\n",
        "- `host_name`: Name of host\n",
        "- `neighbourhood_full`: Name of boroughs and neighbourhoods\n",
        "- `coordinates`: Coordinates of listing _(latitude, longitude)_\n",
        "- `Listing added`: Date of added listing\n",
        "- `room_type`: Type of room \n",
        "- `rating`: Rating from 0 to 5.\n",
        "- `price`: Price per night for listing\n",
        "- `number_of_reviews`: Amount of reviews received \n",
        "- `last_review`: Date of last review\n",
        "- `reviews_per_month`: Number of reviews per month\n",
        "- `availability_365`: Number of days available per year\n",
        "- `Number of stays`: Total number of stays thus far\n"
      ]
    },
    {
      "cell_type": "markdown",
      "metadata": {
        "id": "vduQTaqJ_qj_"
      },
      "source": [
        "## **Introduction to Functions and Methods in Python**\n",
        "\n",
        "### **Functions**\n",
        "\n",
        "A simple definition of functions in Python is that they are a piece of **re-usable code** we can use to solve a **particluar task**. \n",
        "\n",
        "For example, `pd.read_csv()` that we just used is a `pandas` function that allows us to read csv files. \n",
        "\n",
        "There are built-in Python function such as:\n",
        "\n",
        "```\n",
        "# The max() function lets you find the maximum value in a list\n",
        "my_list = [1,2,3,4,5]\n",
        "max(my_list)\n",
        "\n",
        "5\n",
        "```\n",
        "\n",
        "```\n",
        "# The type() function that lets you determine the type of a variable\n",
        "my_word = \"Hello World!\"\n",
        "type(my_word)\n",
        "\n",
        "str\n",
        "```\n",
        "\n",
        "### **Methods**\n",
        "\n",
        "A method in Python is a function that belongs to an object. In Python, objects can be integers, strings, lists, DataFrames and more. For example, the `airbnb` DataFrame is a Pandas DataFrame object\n",
        "\n",
        "```\n",
        "# Get the type of airbnb\n",
        "airbnb = pd.read_csv(\"aibnb.csv\")\n",
        "type(airbnb)\n",
        "\n",
        "pandas.core.frame.DataFrame\n",
        "```\n",
        "\n",
        "Every object in Python has built-in methods that you can use to access functionality in the object — for example:\n",
        "\n",
        "```\n",
        "# Use .capitalize() to capitalize strings\n",
        "my_word = \"hello\"\n",
        "my_word.capitalize()\n",
        "\n",
        "\"Hello\"\n",
        "```\n",
        "\n",
        "```\n",
        "# Use .head() to print first 5 rows of a DataFrame\n",
        "airbnb.head()\n",
        "```\n",
        "\n",
        "### **Creating your own functions**\n",
        "\n",
        "To create your own function, you can use the following, illustrated with an example of a function named `double()` that doubles any value and returns the output"
      ]
    },
    {
      "cell_type": "code",
      "metadata": {
        "id": "J8M2zcq1IeOY"
      },
      "source": [
        "# Define a function named double\n",
        "\n",
        " \n",
        "  # Create a new value that doubles given value\n",
        "\n",
        " \n",
        "  # Return new value\n"
      ],
      "execution_count": null,
      "outputs": []
    },
    {
      "cell_type": "code",
      "metadata": {
        "id": "qKTB8RnQn7AB"
      },
      "source": [
        "# Test it\n"
      ],
      "execution_count": null,
      "outputs": []
    },
    {
      "cell_type": "code",
      "metadata": {
        "id": "-Fx8kUmCnu-Y"
      },
      "source": [
        "# Define a function that adds two numbers to eachother\n",
        "\n",
        "  \n",
        "  # Create new value\n",
        "\n",
        "\n",
        "  # Return new value\n"
      ],
      "execution_count": null,
      "outputs": []
    },
    {
      "cell_type": "code",
      "metadata": {
        "id": "QgVVJi9BoAEV"
      },
      "source": [
        "# Test it\n"
      ],
      "execution_count": null,
      "outputs": []
    },
    {
      "cell_type": "markdown",
      "metadata": {
        "id": "jVG5cFjJInvF"
      },
      "source": [
        "### **Adding docstrings**\n",
        "\n",
        "Docstrings are incredible tools for making functions shareable across your teams. If you want to understand someone else's code, or explain your code whenever someone accesses it, docstrings are your friend. We can add docstrings by using triple-quotes as the following, and ideally a docstring should cover the following:\n",
        "\n",
        "- Description of the function and what it does\n",
        "- Decscription of arguments if any *(if applicable)*\n",
        "- Descritption of the return values\n",
        "- Descriptions of errors raised *(if applicable)*\n",
        "- Optional notes *(if applicable)*"
      ]
    },
    {
      "cell_type": "code",
      "metadata": {
        "id": "cGBbLmPgJsRE"
      },
      "source": [
        "# Define a function named double with docstrings\n",
        "def double(value):\n",
        "  \"\"\"\n",
        "  Returns the double of a given numeric value\n",
        "\n",
        "  Arguments\n",
        "  ---------\n",
        "  value: The value to double\n",
        "\n",
        "  Returns\n",
        "  -------\n",
        "  The doubled value\n",
        "  \"\"\"\n",
        " \n",
        "  # Create a new value that doubles given value\n",
        "  new_value = value * 2\n",
        " \n",
        "  # Return new value\n",
        "  return new_value"
      ],
      "execution_count": null,
      "outputs": []
    },
    {
      "cell_type": "code",
      "metadata": {
        "id": "dGJxRz7OKXCa"
      },
      "source": [
        "# You can retrieve a docstring from any function using\n",
        "print(double.__doc__)"
      ],
      "execution_count": null,
      "outputs": []
    },
    {
      "cell_type": "markdown",
      "metadata": {
        "id": "u-ifJkmUMS9k"
      },
      "source": [
        "\n",
        "\n",
        "---\n",
        "\n",
        "<center><h1> Q&A 1</h1> </center>\n",
        "\n",
        "---\n",
        "\n",
        "\n",
        "\n"
      ]
    },
    {
      "cell_type": "markdown",
      "metadata": {
        "id": "pcWTvgEUMlxC"
      },
      "source": [
        "## **Getting Started**"
      ]
    },
    {
      "cell_type": "code",
      "metadata": {
        "id": "2J4lY4KyMcUn"
      },
      "source": [
        "# Import libraries\n",
        "import pandas as pd"
      ],
      "execution_count": 1,
      "outputs": []
    },
    {
      "cell_type": "markdown",
      "metadata": {
        "id": "6rmhtewCMiLL"
      },
      "source": [
        "*To import a CSV file into* `pandas` , *we use*  `data = pd.read_csv(file_path)` *check out this [documentation](https://pandas.pydata.org/pandas-docs/stable/user_guide/io.html) for importing other data types*\n"
      ]
    },
    {
      "cell_type": "code",
      "metadata": {
        "id": "_1F5M3UvMfit"
      },
      "source": [
        "# Read in the dataset\n",
        "airbnb = pd.read_csv('https://github.com/adelnehme/advanced-python/blob/master/data/airbnb.csv?raw=true')"
      ],
      "execution_count": 2,
      "outputs": []
    },
    {
      "cell_type": "code",
      "metadata": {
        "id": "tb_wyT8QMsbi"
      },
      "source": [
        "# Inspect the first five rows of airbnb with .head()\n"
      ],
      "execution_count": null,
      "outputs": []
    },
    {
      "cell_type": "code",
      "metadata": {
        "id": "Hs5lsNi3O_6v"
      },
      "source": [
        "# Use .info() to detect missing values\n"
      ],
      "execution_count": null,
      "outputs": []
    },
    {
      "cell_type": "code",
      "metadata": {
        "id": "05wQkLsJRyi5"
      },
      "source": [
        "# Check out unique values of room_type\n"
      ],
      "execution_count": null,
      "outputs": []
    },
    {
      "cell_type": "markdown",
      "metadata": {
        "id": "NsscOqscSmBj"
      },
      "source": [
        "\n",
        "\n",
        "---\n",
        "\n",
        "<center><h1> Q&A 2</h1> </center>\n",
        "\n",
        "---\n",
        "\n",
        "\n",
        "\n"
      ]
    },
    {
      "cell_type": "markdown",
      "metadata": {
        "id": "1ui1uvtyZwfQ"
      },
      "source": [
        "## **Automating data cleaning with functions** "
      ]
    },
    {
      "cell_type": "markdown",
      "metadata": {
        "id": "3Ev1mCwXniDv"
      },
      "source": [
        "##### **Task 1:** Replace `coordinates` with `latitude` and `longitude` columns"
      ]
    },
    {
      "cell_type": "markdown",
      "metadata": {
        "id": "ijAlYOgglvzt"
      },
      "source": [
        "When this task is performed functionally, what is usually done is the following:\n",
        "\n",
        "```\n",
        "# Remove parenthesis \"(\" and \")\" from coordinates using .str.strip()\n",
        "airbnb['coordinates'] = airbnb['coordinates'].str.strip(\"(\")\n",
        "airbnb['coordinates'] = airbnb['coordinates'].str.strip(\")\")\n",
        "\n",
        "# Create new lat_long object hosting split values using .str.split(',', expand = True)\n",
        "lat_long = airbnb['coordinates'].str.split(\",\", expand = True)\n",
        "print(lat_long.head())\n",
        "\n",
        "          0           1\n",
        "0  40.68514   -73.95976\n",
        "1  40.70837   -73.95352\n",
        "2  40.74192   -73.99501\n",
        "3  40.67592   -73.94694\n",
        "4  40.69673   -73.97584\n",
        "\n",
        "# Assign new columns in airbnb\n",
        "airbnb['latitude'] = lat_long[0]\n",
        "airbnb['longitude'] = lat_long[1]\n",
        "\n",
        "# Convert them to float\n",
        "airbnb['latitude'] = airbnb['latitude'].astype(float)\n",
        "airbnb['longitude'] = airbnb['longitude'].astype(float)\n",
        "```"
      ]
    },
    {
      "cell_type": "code",
      "metadata": {
        "id": "UpIxvD_onOgt"
      },
      "source": [
        "# Create a new function that splits coordinates\n",
        "def split_coordinates(column):\n",
        "  \"\"\"\n",
        "  A function that splits a coordinates in (lat, long) form\n",
        "  to latitude and longitude \n",
        "\n",
        "  Arguments\n",
        "  ----------\n",
        "  column in a DataFrame\n",
        "\n",
        "  Returns\n",
        "  -------\n",
        "  Latitude and Longitude series as floats\n",
        "  \"\"\"\n"
      ],
      "execution_count": null,
      "outputs": []
    },
    {
      "cell_type": "code",
      "metadata": {
        "id": "qMo4h512VVJz"
      },
      "source": [
        "# Create latitude and longitude columns\n",
        "\n",
        "# Print header\n"
      ],
      "execution_count": null,
      "outputs": []
    },
    {
      "cell_type": "markdown",
      "metadata": {
        "id": "5b1SeduKWGQJ"
      },
      "source": [
        "\n",
        "\n",
        "---\n",
        "\n",
        "<center><h1> Q&A 3</h1> </center>\n",
        "\n",
        "---\n",
        "\n",
        "\n",
        "\n"
      ]
    },
    {
      "cell_type": "markdown",
      "metadata": {
        "id": "bDbWyxZrWmrG"
      },
      "source": [
        "**Task 2**: We need to collapse `room_type` into correct categories"
      ]
    },
    {
      "cell_type": "code",
      "metadata": {
        "id": "Ul1Go_t9ZxYI"
      },
      "source": [
        "# Check out current unique values\n"
      ],
      "execution_count": null,
      "outputs": []
    },
    {
      "cell_type": "markdown",
      "metadata": {
        "id": "_EOov443W6Dn"
      },
      "source": [
        "When this task is performed functionally, what is usually done is the following:\n",
        "\n",
        "```\n",
        "# Deal with capitalized values\n",
        "airbnb['room_type'] = airbnb['room_type'].str.lower()\n",
        "\n",
        "# Deal with trailing spaces\n",
        "airbnb['room_type'] = airbnb['room_type'].str.strip()\n",
        "airbnb['room_type'].unique()\n",
        "\n",
        "array(['private room', 'entire home/apt', 'private', 'shared room',\n",
        "       'home'], dtype=object)\n",
        "\n",
        "# Map values\n",
        "mappings = {'private room': 'Private Room', \n",
        "            'private': 'Private Room',\n",
        "            'entire home/apt': 'Entire place',\n",
        "            'shared room': 'Shared room',\n",
        "            'home': 'Entire place'}\n",
        "\n",
        "# Replace values and collapse data\n",
        "airbnb['room_type'] = airbnb['room_type'].replace(mappings)\n",
        "airbnb['room_type'].unique()\n"
      ]
    },
    {
      "cell_type": "code",
      "metadata": {
        "id": "hPJHPWB4tOlP"
      },
      "source": [
        "# Create a new function that cleans and remaps categorical text columns\n",
        "def remap_text_columns(column, mapping):\n",
        "  \"\"\"\n",
        "  A function that cleans and remaps categorical text columns\n",
        "\n",
        "  Arguments\n",
        "  ----------\n",
        "  column in a DataFrame\n",
        "  mapping wished to be applied on categorical values\n",
        "\n",
        "  Returns\n",
        "  -------\n",
        "  Updated column\n",
        "  \"\"\""
      ],
      "execution_count": null,
      "outputs": []
    },
    {
      "cell_type": "code",
      "metadata": {
        "id": "HwnSnaPEvncy"
      },
      "source": [
        "# Clean room_type column\n",
        "mappings = {'private room': 'Private Room', \n",
        "            'private': 'Private Room',\n",
        "            'entire home/apt': 'Entire place',\n",
        "            'shared room': 'Shared room',\n",
        "            'home': 'Entire place'}\n",
        "\n",
        "# Clean room_type column\n",
        "\n",
        "# Check out unique values\n"
      ],
      "execution_count": null,
      "outputs": []
    },
    {
      "cell_type": "markdown",
      "metadata": {
        "id": "5BKtdh-JabQG"
      },
      "source": [
        "\n",
        "\n",
        "---\n",
        "\n",
        "<center><h1> Q&A 4</h1> </center>\n",
        "\n",
        "---\n",
        "\n",
        "\n",
        "\n"
      ]
    }
  ]
}
