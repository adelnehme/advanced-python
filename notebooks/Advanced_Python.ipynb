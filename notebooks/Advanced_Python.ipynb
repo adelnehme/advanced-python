{
  "nbformat": 4,
  "nbformat_minor": 0,
  "metadata": {
    "colab": {
      "name": "Cleaning Data in Python live session.ipynb",
      "provenance": []
    },
    "kernelspec": {
      "name": "python3",
      "display_name": "Python 3"
    }
  },
  "cells": [
    {
      "cell_type": "markdown",
      "metadata": {
        "id": "6Ijg5wUCTQYG"
      },
      "source": [
        "<p align=\"center\">\n",
        "<img src=\"https://github.com/adelnehme/advanced-python/blob/master/assets/hsbc_datacamp.png?raw=True\" alt = \"DataCamp icon\" width=\"50%\">\n",
        "</p>\n",
        "<br>\n",
        "\n",
        "## **Advanced Python Learning Session**\n",
        "\n",
        "\n",
        "#### **Learning Objectives**\n",
        "\n",
        "- Understand the value of automating Python code using functions and best practices when authoring functions\n",
        "- Create a set of Python functions that automate a data cleaning workflow\n",
        "- Learn the use-cases of package authoring, object-oriented programming and how it enables data democratization\n",
        "- Understand the value of git, version control, and how it enables collaboration on data projects\n",
        "\n",
        "#### **The Dataset**\n",
        "\n",
        "The dataset to be used in this webinar is a CSV file named `airbnb.csv`, which contains data on airbnb listings in the state of New York. It contains the following columns:\n",
        "\n",
        "- `listing_id`: The unique identifier for a listing\n",
        "- `description`: The description used on the listing\n",
        "- `host_id`: Unique identifier for a host\n",
        "- `host_name`: Name of host\n",
        "- `neighbourhood_full`: Name of boroughs and neighbourhoods\n",
        "- `coordinates`: Coordinates of listing _(latitude, longitude)_\n",
        "- `Listing added`: Date of added listing\n",
        "- `room_type`: Type of room \n",
        "- `rating`: Rating from 0 to 5.\n",
        "- `price`: Price per night for listing\n",
        "- `number_of_reviews`: Amount of reviews received \n",
        "- `last_review`: Date of last review\n",
        "- `reviews_per_month`: Number of reviews per month\n",
        "- `availability_365`: Number of days available per year\n",
        "- `Number of stays`: Total number of stays thus far\n"
      ]
    },
    {
      "cell_type": "markdown",
      "metadata": {
        "id": "vduQTaqJ_qj_"
      },
      "source": [
        "## **Introduction to Functions and Methods in Python**\n",
        "\n",
        "### **Functions**\n",
        "\n",
        "A simple definition of functions in Python is that they are a piece of **re-usable code** we can use to solve a **particluar task**. \n",
        "\n",
        "For example, `pd.read_csv()` that we just used is a `pandas` function that allows us to read csv files. \n",
        "\n",
        "There are built-in Python function such as:\n",
        "\n",
        "```\n",
        "# The max() function lets you find the maximum value in a list\n",
        "my_list = [1,2,3,4,5]\n",
        "max(my_list)\n",
        "\n",
        "5\n",
        "```\n",
        "\n",
        "```\n",
        "# The type() function that lets you determine the type of a variable\n",
        "my_word = \"Hello World!\"\n",
        "type(my_word)\n",
        "\n",
        "str\n",
        "```\n",
        "\n",
        "### **Methods**\n",
        "\n",
        "A method in Python is a function that belongs to an object. In Python, objects can be integers, strings, lists, DataFrames and more. For example, the `airbnb` DataFrame is a Pandas DataFrame object\n",
        "\n",
        "```\n",
        "# Get the type of airbnb\n",
        "airbnb = pd.read_csv(\"aibnb.csv\")\n",
        "type(airbnb)\n",
        "\n",
        "pandas.core.frame.DataFrame\n",
        "```\n",
        "\n",
        "Every object in Python has built-in methods that you can use to access functionality in the object — for example:\n",
        "\n",
        "```\n",
        "# Use .capitalize() to capitalize strings\n",
        "my_word = \"hello\"\n",
        "my_word.capitalize()\n",
        "\n",
        "\"Hello\"\n",
        "```\n",
        "\n",
        "```\n",
        "# Use .head() to print first 5 rows of a DataFrame\n",
        "airbnb.head()\n",
        "```\n",
        "\n",
        "### **Creating your own functions**\n",
        "\n",
        "To create your own function, you can use the following, illustrated with an example of a function named `double()` that doubles any value and returns the output"
      ]
    },
    {
      "cell_type": "code",
      "metadata": {
        "id": "J8M2zcq1IeOY"
      },
      "source": [
        "# Define a function named double\n",
        "def double(value):\n",
        " \n",
        "  # Create a new value that doubles given value\n",
        "  new_value = value * 2\n",
        " \n",
        "  # Return new value\n",
        "  return new_value"
      ],
      "execution_count": 92,
      "outputs": []
    },
    {
      "cell_type": "code",
      "metadata": {
        "id": "qKTB8RnQn7AB",
        "outputId": "c0dce319-f208-4135-fb12-5d3c4daf4a96",
        "colab": {
          "base_uri": "https://localhost:8080/"
        }
      },
      "source": [
        "# Test it\n",
        "double(4)"
      ],
      "execution_count": 93,
      "outputs": [
        {
          "output_type": "execute_result",
          "data": {
            "text/plain": [
              "8"
            ]
          },
          "metadata": {
            "tags": []
          },
          "execution_count": 93
        }
      ]
    },
    {
      "cell_type": "code",
      "metadata": {
        "id": "-Fx8kUmCnu-Y"
      },
      "source": [
        "# Define a function that adds two numbers to eachother\n",
        "def add_values(value_a, value_b):\n",
        "  \n",
        "  # Create new value\n",
        "  new_value = value_a + value_b\n",
        "\n",
        "  # Return new value\n",
        "  return new_value"
      ],
      "execution_count": 94,
      "outputs": []
    },
    {
      "cell_type": "code",
      "metadata": {
        "id": "QgVVJi9BoAEV",
        "outputId": "74bb58b6-9cc5-4a65-f650-3511a586117a",
        "colab": {
          "base_uri": "https://localhost:8080/"
        }
      },
      "source": [
        "# Test it\n",
        "add_values(4, 5)"
      ],
      "execution_count": 96,
      "outputs": [
        {
          "output_type": "execute_result",
          "data": {
            "text/plain": [
              "9"
            ]
          },
          "metadata": {
            "tags": []
          },
          "execution_count": 96
        }
      ]
    },
    {
      "cell_type": "markdown",
      "metadata": {
        "id": "jVG5cFjJInvF"
      },
      "source": [
        "### **Adding docstrings**\n",
        "\n",
        "Docstrings are incredible tools for making functions shareable across your teams. If you want to understand someone else's code, or explain your code whenever someone accesses it, docstrings are your friend. We can add docstrings by using triple-quotes as the following, and ideally a docstring should cover the following:\n",
        "\n",
        "- Description of the function and what it does\n",
        "- Decscription of arguments if any *(if applicable)*\n",
        "- Descritption of the return values\n",
        "- Descriptions of errors raised *(if applicable)*\n",
        "- Optional notes *(if applicable)*"
      ]
    },
    {
      "cell_type": "code",
      "metadata": {
        "id": "cGBbLmPgJsRE"
      },
      "source": [
        "# Define a function named double with docstrings\n",
        "def double(value):\n",
        "  \"\"\"\n",
        "  Returns the double of a given numeric value\n",
        "\n",
        "  Arguments\n",
        "  ---------\n",
        "  value: The value to double\n",
        "\n",
        "  Returns\n",
        "  -------\n",
        "  The doubled value\n",
        "  \"\"\"\n",
        " \n",
        "  # Create a new value that doubles given value\n",
        "  new_value = value * 2\n",
        " \n",
        "  # Return new value\n",
        "  return new_value"
      ],
      "execution_count": null,
      "outputs": []
    },
    {
      "cell_type": "code",
      "metadata": {
        "id": "dGJxRz7OKXCa"
      },
      "source": [
        "# You can retrieve a docstring from any function using\n",
        "print(double.__doc__)"
      ],
      "execution_count": null,
      "outputs": []
    },
    {
      "cell_type": "markdown",
      "metadata": {
        "id": "u-ifJkmUMS9k"
      },
      "source": [
        "\n",
        "\n",
        "---\n",
        "\n",
        "<center><h1> Q&A 1</h1> </center>\n",
        "\n",
        "---\n",
        "\n",
        "\n",
        "\n"
      ]
    },
    {
      "cell_type": "markdown",
      "metadata": {
        "id": "pcWTvgEUMlxC"
      },
      "source": [
        "## **Getting Started**"
      ]
    },
    {
      "cell_type": "code",
      "metadata": {
        "id": "2J4lY4KyMcUn"
      },
      "source": [
        "# Import libraries\n",
        "import pandas as pd"
      ],
      "execution_count": null,
      "outputs": []
    },
    {
      "cell_type": "markdown",
      "metadata": {
        "id": "6rmhtewCMiLL"
      },
      "source": [
        "*To import a CSV file into* `pandas` , *we use*  `data = pd.read_csv(file_path)` *check out this [documentation](https://pandas.pydata.org/pandas-docs/stable/user_guide/io.html) for importing other data types*\n"
      ]
    },
    {
      "cell_type": "code",
      "metadata": {
        "id": "_1F5M3UvMfit"
      },
      "source": [
        "# Read in the dataset\n",
        "airbnb = pd.read_csv('https://github.com/adelnehme/advanced-python/blob/master/data/airbnb.csv?raw=true')"
      ],
      "execution_count": null,
      "outputs": []
    },
    {
      "cell_type": "code",
      "metadata": {
        "id": "tb_wyT8QMsbi",
        "outputId": "f47c0888-6431-4ae8-ef48-5cf6c896f692",
        "colab": {
          "base_uri": "https://localhost:8080/",
          "height": 445
        }
      },
      "source": [
        "# Inspect the first five rows of airbnb with .head()\n",
        "airbnb.head()"
      ],
      "execution_count": null,
      "outputs": [
        {
          "output_type": "execute_result",
          "data": {
            "text/html": [
              "<div>\n",
              "<style scoped>\n",
              "    .dataframe tbody tr th:only-of-type {\n",
              "        vertical-align: middle;\n",
              "    }\n",
              "\n",
              "    .dataframe tbody tr th {\n",
              "        vertical-align: top;\n",
              "    }\n",
              "\n",
              "    .dataframe thead th {\n",
              "        text-align: right;\n",
              "    }\n",
              "</style>\n",
              "<table border=\"1\" class=\"dataframe\">\n",
              "  <thead>\n",
              "    <tr style=\"text-align: right;\">\n",
              "      <th></th>\n",
              "      <th>listing_id</th>\n",
              "      <th>5_stars</th>\n",
              "      <th>availability_365</th>\n",
              "      <th>borough</th>\n",
              "      <th>coordinates</th>\n",
              "      <th>host_id</th>\n",
              "      <th>host_name</th>\n",
              "      <th>is_rated</th>\n",
              "      <th>last_review</th>\n",
              "      <th>name</th>\n",
              "      <th>neighbourhood</th>\n",
              "      <th>number_of_reviews</th>\n",
              "      <th>number_of_stays</th>\n",
              "      <th>reviews_per_month</th>\n",
              "      <th>room_type</th>\n",
              "      <th>price</th>\n",
              "      <th>rating</th>\n",
              "      <th>listing_added</th>\n",
              "    </tr>\n",
              "  </thead>\n",
              "  <tbody>\n",
              "    <tr>\n",
              "      <th>0</th>\n",
              "      <td>3831</td>\n",
              "      <td>0.757366</td>\n",
              "      <td>194</td>\n",
              "      <td>Brooklyn</td>\n",
              "      <td>(40.68514, -73.95976)</td>\n",
              "      <td>4869</td>\n",
              "      <td>LisaRoxanne</td>\n",
              "      <td>1</td>\n",
              "      <td>2019-07-05</td>\n",
              "      <td>Cozy Entire Floor of Brownstone</td>\n",
              "      <td>Clinton Hill</td>\n",
              "      <td>270</td>\n",
              "      <td>324.0</td>\n",
              "      <td>4.64</td>\n",
              "      <td>Entire home/apt</td>\n",
              "      <td>89.0</td>\n",
              "      <td>3.273935</td>\n",
              "      <td>2018-12-30</td>\n",
              "    </tr>\n",
              "    <tr>\n",
              "      <th>1</th>\n",
              "      <td>6848</td>\n",
              "      <td>0.789743</td>\n",
              "      <td>46</td>\n",
              "      <td>Brooklyn</td>\n",
              "      <td>(40.70837, -73.95352)</td>\n",
              "      <td>15991</td>\n",
              "      <td>Allen &amp; Irina</td>\n",
              "      <td>1</td>\n",
              "      <td>2019-06-29</td>\n",
              "      <td>Only 2 stops to Manhattan studio</td>\n",
              "      <td>Williamsburg</td>\n",
              "      <td>148</td>\n",
              "      <td>177.6</td>\n",
              "      <td>1.20</td>\n",
              "      <td>Entire home/apt</td>\n",
              "      <td>140.0</td>\n",
              "      <td>3.495760</td>\n",
              "      <td>2018-12-24</td>\n",
              "    </tr>\n",
              "    <tr>\n",
              "      <th>2</th>\n",
              "      <td>7322</td>\n",
              "      <td>0.669873</td>\n",
              "      <td>12</td>\n",
              "      <td>Manhattan</td>\n",
              "      <td>(40.74192, -73.99501)</td>\n",
              "      <td>18946</td>\n",
              "      <td>Doti</td>\n",
              "      <td>1</td>\n",
              "      <td>2019-07-01</td>\n",
              "      <td>Chelsea Perfect</td>\n",
              "      <td>Chelsea</td>\n",
              "      <td>260</td>\n",
              "      <td>312.0</td>\n",
              "      <td>2.12</td>\n",
              "      <td>Private room</td>\n",
              "      <td>140.0</td>\n",
              "      <td>4.389051</td>\n",
              "      <td>2018-12-26</td>\n",
              "    </tr>\n",
              "    <tr>\n",
              "      <th>3</th>\n",
              "      <td>7726</td>\n",
              "      <td>0.640251</td>\n",
              "      <td>21</td>\n",
              "      <td>Brooklyn</td>\n",
              "      <td>(40.67592, -73.94694)</td>\n",
              "      <td>20950</td>\n",
              "      <td>Adam And Charity</td>\n",
              "      <td>1</td>\n",
              "      <td>2019-06-22</td>\n",
              "      <td>Hip Historic Brownstone Apartment with Backyard</td>\n",
              "      <td>Crown Heights</td>\n",
              "      <td>53</td>\n",
              "      <td>63.6</td>\n",
              "      <td>4.44</td>\n",
              "      <td>Entire home/apt</td>\n",
              "      <td>99.0</td>\n",
              "      <td>3.305382</td>\n",
              "      <td>2018-12-17</td>\n",
              "    </tr>\n",
              "    <tr>\n",
              "      <th>4</th>\n",
              "      <td>12303</td>\n",
              "      <td>0.918593</td>\n",
              "      <td>311</td>\n",
              "      <td>Brooklyn</td>\n",
              "      <td>(40.69673, -73.97584)</td>\n",
              "      <td>47618</td>\n",
              "      <td>Yolande</td>\n",
              "      <td>1</td>\n",
              "      <td>2018-09-30</td>\n",
              "      <td>1bdr w private bath. in lofty apt</td>\n",
              "      <td>Fort Greene</td>\n",
              "      <td>25</td>\n",
              "      <td>30.0</td>\n",
              "      <td>0.23</td>\n",
              "      <td>Private room</td>\n",
              "      <td>120.0</td>\n",
              "      <td>4.568745</td>\n",
              "      <td>2018-03-27</td>\n",
              "    </tr>\n",
              "  </tbody>\n",
              "</table>\n",
              "</div>"
            ],
            "text/plain": [
              "   listing_id   5_stars  availability_365  ...  price    rating  listing_added\n",
              "0        3831  0.757366               194  ...   89.0  3.273935     2018-12-30\n",
              "1        6848  0.789743                46  ...  140.0  3.495760     2018-12-24\n",
              "2        7322  0.669873                12  ...  140.0  4.389051     2018-12-26\n",
              "3        7726  0.640251                21  ...   99.0  3.305382     2018-12-17\n",
              "4       12303  0.918593               311  ...  120.0  4.568745     2018-03-27\n",
              "\n",
              "[5 rows x 18 columns]"
            ]
          },
          "metadata": {
            "tags": []
          },
          "execution_count": 28
        }
      ]
    },
    {
      "cell_type": "markdown",
      "metadata": {
        "id": "gXrGy3Y0PBsH"
      },
      "source": [
        "**Problem 1**: We need to split the `coordinates` column into 2 columns, one for lattitude and one for longitude"
      ]
    },
    {
      "cell_type": "code",
      "metadata": {
        "id": "Hs5lsNi3O_6v",
        "outputId": "84824383-d6f3-4eef-9d0f-f498187f6c5d",
        "colab": {
          "base_uri": "https://localhost:8080/"
        }
      },
      "source": [
        "# Use .info() to detect missing values\n",
        "airbnb.info()"
      ],
      "execution_count": null,
      "outputs": [
        {
          "output_type": "stream",
          "text": [
            "<class 'pandas.core.frame.DataFrame'>\n",
            "RangeIndex: 9999 entries, 0 to 9998\n",
            "Data columns (total 18 columns):\n",
            " #   Column             Non-Null Count  Dtype  \n",
            "---  ------             --------------  -----  \n",
            " 0   listing_id         9999 non-null   int64  \n",
            " 1   5_stars            9999 non-null   float64\n",
            " 2   availability_365   9999 non-null   int64  \n",
            " 3   borough            9999 non-null   object \n",
            " 4   coordinates        9999 non-null   object \n",
            " 5   host_id            9999 non-null   int64  \n",
            " 6   host_name          9999 non-null   object \n",
            " 7   is_rated           9999 non-null   int64  \n",
            " 8   last_review        9999 non-null   object \n",
            " 9   name               9999 non-null   object \n",
            " 10  neighbourhood      9999 non-null   object \n",
            " 11  number_of_reviews  9999 non-null   int64  \n",
            " 12  number_of_stays    9999 non-null   float64\n",
            " 13  reviews_per_month  9999 non-null   float64\n",
            " 14  room_type          9999 non-null   object \n",
            " 15  price              9761 non-null   float64\n",
            " 16  rating             9999 non-null   float64\n",
            " 17  listing_added      9999 non-null   object \n",
            "dtypes: float64(5), int64(5), object(8)\n",
            "memory usage: 1.4+ MB\n"
          ],
          "name": "stdout"
        }
      ]
    },
    {
      "cell_type": "code",
      "metadata": {
        "id": "05wQkLsJRyi5",
        "outputId": "4156dbdf-6a94-4871-e003-adb1354b2ad2",
        "colab": {
          "base_uri": "https://localhost:8080/"
        }
      },
      "source": [
        "# Check out unique values of room_type\n",
        "airbnb['room_type'].unique()"
      ],
      "execution_count": null,
      "outputs": [
        {
          "output_type": "execute_result",
          "data": {
            "text/plain": [
              "array(['Entire home/apt', 'Private room', 'Shared room',\n",
              "       '   Shared room      ', 'Private', 'home', 'PRIVATE ROOM'],\n",
              "      dtype=object)"
            ]
          },
          "metadata": {
            "tags": []
          },
          "execution_count": 30
        }
      ]
    },
    {
      "cell_type": "markdown",
      "metadata": {
        "id": "X5MRSoyWSCMP"
      },
      "source": [
        "**Problem 2**: We need to collapse different values of `room_type` so that the unique values are\n",
        "\n",
        "```\n",
        "['Private Room', 'Entire place', 'Shared room']\n",
        "```"
      ]
    },
    {
      "cell_type": "markdown",
      "metadata": {
        "id": "NsscOqscSmBj"
      },
      "source": [
        "\n",
        "\n",
        "---\n",
        "\n",
        "<center><h1> Q&A 2</h1> </center>\n",
        "\n",
        "---\n",
        "\n",
        "\n",
        "\n"
      ]
    },
    {
      "cell_type": "markdown",
      "metadata": {
        "id": "1ui1uvtyZwfQ"
      },
      "source": [
        "## **Automating data cleaning with functions** "
      ]
    },
    {
      "cell_type": "markdown",
      "metadata": {
        "id": "3Ev1mCwXniDv"
      },
      "source": [
        "##### **Task 1:** Replace `coordinates` with `latitude` and `longitude` columns"
      ]
    },
    {
      "cell_type": "markdown",
      "metadata": {
        "id": "ijAlYOgglvzt"
      },
      "source": [
        "When this task is performed functionally, what is usually done is the following:\n",
        "\n",
        "```\n",
        "# Remove parenthesis \"(\" and \")\" from coordinates using .str.strip()\n",
        "airbnb['coordinates'] = airbnb['coordinates'].str.strip(\"(\")\n",
        "airbnb['coordinates'] = airbnb['coordinates'].str.strip(\")\")\n",
        "\n",
        "# Create new lat_long object hosting split values using .str.split(',', expand = True)\n",
        "lat_long = airbnb['coordinates'].str.split(\",\", expand = True)\n",
        "print(lat_long.head())\n",
        "\n",
        "          0           1\n",
        "0  40.68514   -73.95976\n",
        "1  40.70837   -73.95352\n",
        "2  40.74192   -73.99501\n",
        "3  40.67592   -73.94694\n",
        "4  40.69673   -73.97584\n",
        "\n",
        "# Assign new columns in airbnb\n",
        "airbnb['latitude'] = lat_long[0]\n",
        "airbnb['longitude'] = lat_long[1]\n",
        "\n",
        "# Convert them to float\n",
        "airbnb['latitude'] = airbnb['latitude'].astype(float)\n",
        "airbnb['longitude'] = airbnb['longitude'].astype(float)\n",
        "```"
      ]
    },
    {
      "cell_type": "code",
      "metadata": {
        "id": "UpIxvD_onOgt"
      },
      "source": [
        "# Create a new function that splits coordinates\n",
        "def split_coordinates(column):\n",
        "  \"\"\"\n",
        "  A function that splits a coordinates in (lat, long) form\n",
        "  to latitude and longitude \n",
        "\n",
        "  Arguments\n",
        "  ----------\n",
        "  column in a DataFrame\n",
        "\n",
        "  Returns\n",
        "  -------\n",
        "  Latitude and Longitude series as floats\n",
        "  \"\"\"\n",
        "  \n",
        "  # Remove parenthesis \"(\" and \")\"\n",
        "  updated_column = column.str.strip('(')\n",
        "  updated_column = updated_column.str.strip(')')\n",
        "\n",
        "  # Split coordinates into lat_long and convert to float\n",
        "  lat_long = updated_column.str.split(\",\", expand = True)\n",
        "  lat_long[0] = lat_long[0].astype(float)\n",
        "  lat_long[1] = lat_long[1].astype(float)\n",
        "\n",
        "  # Return lattitude and longitude separately\n",
        "  return lat_long[0], lat_long[1]"
      ],
      "execution_count": null,
      "outputs": []
    },
    {
      "cell_type": "code",
      "metadata": {
        "id": "qMo4h512VVJz",
        "outputId": "60b81e48-2087-4d9c-dba3-6f33acef362f",
        "colab": {
          "base_uri": "https://localhost:8080/",
          "height": 445
        }
      },
      "source": [
        "# Create latitude and longitude columns\n",
        "airbnb['latitude'], airbnb['longitude'] = split_coordinates(airbnb['coordinates'])\n",
        "\n",
        "# Print header\n",
        "airbnb.head()"
      ],
      "execution_count": null,
      "outputs": [
        {
          "output_type": "execute_result",
          "data": {
            "text/html": [
              "<div>\n",
              "<style scoped>\n",
              "    .dataframe tbody tr th:only-of-type {\n",
              "        vertical-align: middle;\n",
              "    }\n",
              "\n",
              "    .dataframe tbody tr th {\n",
              "        vertical-align: top;\n",
              "    }\n",
              "\n",
              "    .dataframe thead th {\n",
              "        text-align: right;\n",
              "    }\n",
              "</style>\n",
              "<table border=\"1\" class=\"dataframe\">\n",
              "  <thead>\n",
              "    <tr style=\"text-align: right;\">\n",
              "      <th></th>\n",
              "      <th>listing_id</th>\n",
              "      <th>5_stars</th>\n",
              "      <th>availability_365</th>\n",
              "      <th>borough</th>\n",
              "      <th>coordinates</th>\n",
              "      <th>host_id</th>\n",
              "      <th>host_name</th>\n",
              "      <th>is_rated</th>\n",
              "      <th>last_review</th>\n",
              "      <th>name</th>\n",
              "      <th>neighbourhood</th>\n",
              "      <th>number_of_reviews</th>\n",
              "      <th>number_of_stays</th>\n",
              "      <th>reviews_per_month</th>\n",
              "      <th>room_type</th>\n",
              "      <th>price</th>\n",
              "      <th>rating</th>\n",
              "      <th>listing_added</th>\n",
              "      <th>latitude</th>\n",
              "      <th>longitude</th>\n",
              "    </tr>\n",
              "  </thead>\n",
              "  <tbody>\n",
              "    <tr>\n",
              "      <th>0</th>\n",
              "      <td>3831</td>\n",
              "      <td>0.757366</td>\n",
              "      <td>194</td>\n",
              "      <td>Brooklyn</td>\n",
              "      <td>(40.68514, -73.95976)</td>\n",
              "      <td>4869</td>\n",
              "      <td>LisaRoxanne</td>\n",
              "      <td>1</td>\n",
              "      <td>2019-07-05</td>\n",
              "      <td>Cozy Entire Floor of Brownstone</td>\n",
              "      <td>Clinton Hill</td>\n",
              "      <td>270</td>\n",
              "      <td>324.0</td>\n",
              "      <td>4.64</td>\n",
              "      <td>Entire home/apt</td>\n",
              "      <td>89.0</td>\n",
              "      <td>3.273935</td>\n",
              "      <td>2018-12-30</td>\n",
              "      <td>40.68514</td>\n",
              "      <td>-73.95976</td>\n",
              "    </tr>\n",
              "    <tr>\n",
              "      <th>1</th>\n",
              "      <td>6848</td>\n",
              "      <td>0.789743</td>\n",
              "      <td>46</td>\n",
              "      <td>Brooklyn</td>\n",
              "      <td>(40.70837, -73.95352)</td>\n",
              "      <td>15991</td>\n",
              "      <td>Allen &amp; Irina</td>\n",
              "      <td>1</td>\n",
              "      <td>2019-06-29</td>\n",
              "      <td>Only 2 stops to Manhattan studio</td>\n",
              "      <td>Williamsburg</td>\n",
              "      <td>148</td>\n",
              "      <td>177.6</td>\n",
              "      <td>1.20</td>\n",
              "      <td>Entire home/apt</td>\n",
              "      <td>140.0</td>\n",
              "      <td>3.495760</td>\n",
              "      <td>2018-12-24</td>\n",
              "      <td>40.70837</td>\n",
              "      <td>-73.95352</td>\n",
              "    </tr>\n",
              "    <tr>\n",
              "      <th>2</th>\n",
              "      <td>7322</td>\n",
              "      <td>0.669873</td>\n",
              "      <td>12</td>\n",
              "      <td>Manhattan</td>\n",
              "      <td>(40.74192, -73.99501)</td>\n",
              "      <td>18946</td>\n",
              "      <td>Doti</td>\n",
              "      <td>1</td>\n",
              "      <td>2019-07-01</td>\n",
              "      <td>Chelsea Perfect</td>\n",
              "      <td>Chelsea</td>\n",
              "      <td>260</td>\n",
              "      <td>312.0</td>\n",
              "      <td>2.12</td>\n",
              "      <td>Private room</td>\n",
              "      <td>140.0</td>\n",
              "      <td>4.389051</td>\n",
              "      <td>2018-12-26</td>\n",
              "      <td>40.74192</td>\n",
              "      <td>-73.99501</td>\n",
              "    </tr>\n",
              "    <tr>\n",
              "      <th>3</th>\n",
              "      <td>7726</td>\n",
              "      <td>0.640251</td>\n",
              "      <td>21</td>\n",
              "      <td>Brooklyn</td>\n",
              "      <td>(40.67592, -73.94694)</td>\n",
              "      <td>20950</td>\n",
              "      <td>Adam And Charity</td>\n",
              "      <td>1</td>\n",
              "      <td>2019-06-22</td>\n",
              "      <td>Hip Historic Brownstone Apartment with Backyard</td>\n",
              "      <td>Crown Heights</td>\n",
              "      <td>53</td>\n",
              "      <td>63.6</td>\n",
              "      <td>4.44</td>\n",
              "      <td>Entire home/apt</td>\n",
              "      <td>99.0</td>\n",
              "      <td>3.305382</td>\n",
              "      <td>2018-12-17</td>\n",
              "      <td>40.67592</td>\n",
              "      <td>-73.94694</td>\n",
              "    </tr>\n",
              "    <tr>\n",
              "      <th>4</th>\n",
              "      <td>12303</td>\n",
              "      <td>0.918593</td>\n",
              "      <td>311</td>\n",
              "      <td>Brooklyn</td>\n",
              "      <td>(40.69673, -73.97584)</td>\n",
              "      <td>47618</td>\n",
              "      <td>Yolande</td>\n",
              "      <td>1</td>\n",
              "      <td>2018-09-30</td>\n",
              "      <td>1bdr w private bath. in lofty apt</td>\n",
              "      <td>Fort Greene</td>\n",
              "      <td>25</td>\n",
              "      <td>30.0</td>\n",
              "      <td>0.23</td>\n",
              "      <td>Private room</td>\n",
              "      <td>120.0</td>\n",
              "      <td>4.568745</td>\n",
              "      <td>2018-03-27</td>\n",
              "      <td>40.69673</td>\n",
              "      <td>-73.97584</td>\n",
              "    </tr>\n",
              "  </tbody>\n",
              "</table>\n",
              "</div>"
            ],
            "text/plain": [
              "   listing_id   5_stars  availability_365  ... listing_added  latitude  longitude\n",
              "0        3831  0.757366               194  ...    2018-12-30  40.68514  -73.95976\n",
              "1        6848  0.789743                46  ...    2018-12-24  40.70837  -73.95352\n",
              "2        7322  0.669873                12  ...    2018-12-26  40.74192  -73.99501\n",
              "3        7726  0.640251                21  ...    2018-12-17  40.67592  -73.94694\n",
              "4       12303  0.918593               311  ...    2018-03-27  40.69673  -73.97584\n",
              "\n",
              "[5 rows x 20 columns]"
            ]
          },
          "metadata": {
            "tags": []
          },
          "execution_count": 61
        }
      ]
    },
    {
      "cell_type": "markdown",
      "metadata": {
        "id": "5b1SeduKWGQJ"
      },
      "source": [
        "\n",
        "\n",
        "---\n",
        "\n",
        "<center><h1> Q&A 3</h1> </center>\n",
        "\n",
        "---\n",
        "\n",
        "\n",
        "\n"
      ]
    },
    {
      "cell_type": "markdown",
      "metadata": {
        "id": "bDbWyxZrWmrG"
      },
      "source": [
        "**Task 2**: We need to collapse `room_type` into correct categories"
      ]
    },
    {
      "cell_type": "code",
      "metadata": {
        "id": "Ul1Go_t9ZxYI",
        "outputId": "be0042b9-dafd-4c70-c4f0-7982f021fd01",
        "colab": {
          "base_uri": "https://localhost:8080/"
        }
      },
      "source": [
        "# Check out current unique values\n",
        "airbnb['room_type'].unique()"
      ],
      "execution_count": null,
      "outputs": [
        {
          "output_type": "execute_result",
          "data": {
            "text/plain": [
              "array(['Entire home/apt', 'Private room', 'Shared room',\n",
              "       '   Shared room      ', 'Private', 'home', 'PRIVATE ROOM'],\n",
              "      dtype=object)"
            ]
          },
          "metadata": {
            "tags": []
          },
          "execution_count": 62
        }
      ]
    },
    {
      "cell_type": "markdown",
      "metadata": {
        "id": "_EOov443W6Dn"
      },
      "source": [
        "When this task is performed functionally, what is usually done is the following:\n",
        "\n",
        "```\n",
        "# Deal with capitalized values\n",
        "airbnb['room_type'] = airbnb['room_type'].str.lower()\n",
        "\n",
        "# Deal with trailing spaces\n",
        "airbnb['room_type'] = airbnb['room_type'].str.strip()\n",
        "airbnb['room_type'].unique()\n",
        "\n",
        "array(['private room', 'entire home/apt', 'private', 'shared room',\n",
        "       'home'], dtype=object)\n",
        "\n",
        "# Map values\n",
        "mappings = {'private room': 'Private Room', \n",
        "            'private': 'Private Room',\n",
        "            'entire home/apt': 'Entire place',\n",
        "            'shared room': 'Shared room',\n",
        "            'home': 'Entire place'}\n",
        "\n",
        "# Replace values and collapse data\n",
        "airbnb['room_type'] = airbnb['room_type'].replace(mappings)\n",
        "airbnb['room_type'].unique()\n"
      ]
    },
    {
      "cell_type": "code",
      "metadata": {
        "id": "hPJHPWB4tOlP"
      },
      "source": [
        "# Create a new function that cleans and remaps categorical text columns\n",
        "def remap_text_columns(column, mapping):\n",
        "  \"\"\"\n",
        "  A function that cleans and remaps categorical text columns\n",
        "\n",
        "  Arguments\n",
        "  ----------\n",
        "  column in a DataFrame\n",
        "  mapping wished to be applied on categorical values\n",
        "\n",
        "  Returns\n",
        "  -------\n",
        "  Updated column\n",
        "  \"\"\"\n",
        "\n",
        "  # Deal with capitalized values and trailing spaces\n",
        "  updated_column = column.str.lower()\n",
        "  updated_column = updated_column.str.strip()\n",
        "\n",
        "  # Perform mapping and return\n",
        "  updated_column = updated_column.replace(mapping)\n",
        "  \n",
        "  return updated_column"
      ],
      "execution_count": null,
      "outputs": []
    },
    {
      "cell_type": "code",
      "metadata": {
        "id": "HwnSnaPEvncy",
        "outputId": "5d3de188-c669-4e9b-f3be-b27eb71fb7c5",
        "colab": {
          "base_uri": "https://localhost:8080/"
        }
      },
      "source": [
        "# Clean room_type column\n",
        "mappings = {'private room': 'Private Room', \n",
        "            'private': 'Private Room',\n",
        "            'entire home/apt': 'Entire place',\n",
        "            'shared room': 'Shared room',\n",
        "            'home': 'Entire place'}\n",
        "\n",
        "# Clean room_type column\n",
        "airbnb['room_type'] = remap_text_columns(airbnb['room_type'], mappings)\n",
        "\n",
        "# Check out unique values\n",
        "airbnb['room_type'].unique()"
      ],
      "execution_count": null,
      "outputs": [
        {
          "output_type": "execute_result",
          "data": {
            "text/plain": [
              "array(['Entire place', 'Private Room', 'Shared room'], dtype=object)"
            ]
          },
          "metadata": {
            "tags": []
          },
          "execution_count": 65
        }
      ]
    },
    {
      "cell_type": "markdown",
      "metadata": {
        "id": "5BKtdh-JabQG"
      },
      "source": [
        "\n",
        "\n",
        "---\n",
        "\n",
        "<center><h1> Q&A 4</h1> </center>\n",
        "\n",
        "---\n",
        "\n",
        "\n",
        "\n"
      ]
    }
  ]
}